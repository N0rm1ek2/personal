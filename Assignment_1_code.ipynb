{
  "nbformat": 4,
  "nbformat_minor": 0,
  "metadata": {
    "colab": {
      "provenance": []
    },
    "kernelspec": {
      "name": "python3",
      "display_name": "Python 3"
    },
    "language_info": {
      "name": "python"
    }
  },
  "cells": [
    {
      "cell_type": "code",
      "execution_count": null,
      "metadata": {
        "id": "3w6RHqSrg9Bt"
      },
      "outputs": [],
      "source": [
        "import pandas as pd\n",
        "import matplotlib.pyplot as plt\n",
        "import seaborn as sns\n",
        "import numpy as np\n",
        "pd.options.mode.chained_assignment = None  # default='warn'"
      ]
    },
    {
      "cell_type": "code",
      "source": [
        "#Excercise1\n",
        "\n",
        "#Read CSV file\n",
        "orange_data = pd.read_csv('orange_inc.csv')\n",
        "\n",
        "#Count missing values\n",
        "missing_values = {}\n",
        "\n",
        "for column in orange_data.columns:\n",
        "  for row in orange_data[column]:\n",
        "    if row == '-':\n",
        "      if column in missing_values:\n",
        "        missing_values[column] += 1\n",
        "      else:\n",
        "        missing_values[column] = 1\n",
        "\n",
        "#Show the answer as a DataFrame\n",
        "pd.DataFrame(missing_values, index=[0])"
      ],
      "metadata": {
        "colab": {
          "base_uri": "https://localhost:8080/",
          "height": 81
        },
        "id": "nkeabyJThQBf",
        "outputId": "23a43443-78ab-4e8a-bfc8-a3a5499183f4"
      },
      "execution_count": null,
      "outputs": [
        {
          "output_type": "execute_result",
          "data": {
            "text/plain": [
              "   age_bracket  tier  gender  oPhone  oWatch  oPods  oTV  date  card\n",
              "0           53    28     152      50      40     45   30    17    20"
            ],
            "text/html": [
              "\n",
              "  <div id=\"df-9f6ab5db-eff3-464b-b53f-9ca2deb24707\" class=\"colab-df-container\">\n",
              "    <div>\n",
              "<style scoped>\n",
              "    .dataframe tbody tr th:only-of-type {\n",
              "        vertical-align: middle;\n",
              "    }\n",
              "\n",
              "    .dataframe tbody tr th {\n",
              "        vertical-align: top;\n",
              "    }\n",
              "\n",
              "    .dataframe thead th {\n",
              "        text-align: right;\n",
              "    }\n",
              "</style>\n",
              "<table border=\"1\" class=\"dataframe\">\n",
              "  <thead>\n",
              "    <tr style=\"text-align: right;\">\n",
              "      <th></th>\n",
              "      <th>age_bracket</th>\n",
              "      <th>tier</th>\n",
              "      <th>gender</th>\n",
              "      <th>oPhone</th>\n",
              "      <th>oWatch</th>\n",
              "      <th>oPods</th>\n",
              "      <th>oTV</th>\n",
              "      <th>date</th>\n",
              "      <th>card</th>\n",
              "    </tr>\n",
              "  </thead>\n",
              "  <tbody>\n",
              "    <tr>\n",
              "      <th>0</th>\n",
              "      <td>53</td>\n",
              "      <td>28</td>\n",
              "      <td>152</td>\n",
              "      <td>50</td>\n",
              "      <td>40</td>\n",
              "      <td>45</td>\n",
              "      <td>30</td>\n",
              "      <td>17</td>\n",
              "      <td>20</td>\n",
              "    </tr>\n",
              "  </tbody>\n",
              "</table>\n",
              "</div>\n",
              "    <div class=\"colab-df-buttons\">\n",
              "\n",
              "  <div class=\"colab-df-container\">\n",
              "    <button class=\"colab-df-convert\" onclick=\"convertToInteractive('df-9f6ab5db-eff3-464b-b53f-9ca2deb24707')\"\n",
              "            title=\"Convert this dataframe to an interactive table.\"\n",
              "            style=\"display:none;\">\n",
              "\n",
              "  <svg xmlns=\"http://www.w3.org/2000/svg\" height=\"24px\" viewBox=\"0 -960 960 960\">\n",
              "    <path d=\"M120-120v-720h720v720H120Zm60-500h600v-160H180v160Zm220 220h160v-160H400v160Zm0 220h160v-160H400v160ZM180-400h160v-160H180v160Zm440 0h160v-160H620v160ZM180-180h160v-160H180v160Zm440 0h160v-160H620v160Z\"/>\n",
              "  </svg>\n",
              "    </button>\n",
              "\n",
              "  <style>\n",
              "    .colab-df-container {\n",
              "      display:flex;\n",
              "      gap: 12px;\n",
              "    }\n",
              "\n",
              "    .colab-df-convert {\n",
              "      background-color: #E8F0FE;\n",
              "      border: none;\n",
              "      border-radius: 50%;\n",
              "      cursor: pointer;\n",
              "      display: none;\n",
              "      fill: #1967D2;\n",
              "      height: 32px;\n",
              "      padding: 0 0 0 0;\n",
              "      width: 32px;\n",
              "    }\n",
              "\n",
              "    .colab-df-convert:hover {\n",
              "      background-color: #E2EBFA;\n",
              "      box-shadow: 0px 1px 2px rgba(60, 64, 67, 0.3), 0px 1px 3px 1px rgba(60, 64, 67, 0.15);\n",
              "      fill: #174EA6;\n",
              "    }\n",
              "\n",
              "    .colab-df-buttons div {\n",
              "      margin-bottom: 4px;\n",
              "    }\n",
              "\n",
              "    [theme=dark] .colab-df-convert {\n",
              "      background-color: #3B4455;\n",
              "      fill: #D2E3FC;\n",
              "    }\n",
              "\n",
              "    [theme=dark] .colab-df-convert:hover {\n",
              "      background-color: #434B5C;\n",
              "      box-shadow: 0px 1px 3px 1px rgba(0, 0, 0, 0.15);\n",
              "      filter: drop-shadow(0px 1px 2px rgba(0, 0, 0, 0.3));\n",
              "      fill: #FFFFFF;\n",
              "    }\n",
              "  </style>\n",
              "\n",
              "    <script>\n",
              "      const buttonEl =\n",
              "        document.querySelector('#df-9f6ab5db-eff3-464b-b53f-9ca2deb24707 button.colab-df-convert');\n",
              "      buttonEl.style.display =\n",
              "        google.colab.kernel.accessAllowed ? 'block' : 'none';\n",
              "\n",
              "      async function convertToInteractive(key) {\n",
              "        const element = document.querySelector('#df-9f6ab5db-eff3-464b-b53f-9ca2deb24707');\n",
              "        const dataTable =\n",
              "          await google.colab.kernel.invokeFunction('convertToInteractive',\n",
              "                                                    [key], {});\n",
              "        if (!dataTable) return;\n",
              "\n",
              "        const docLinkHtml = 'Like what you see? Visit the ' +\n",
              "          '<a target=\"_blank\" href=https://colab.research.google.com/notebooks/data_table.ipynb>data table notebook</a>'\n",
              "          + ' to learn more about interactive tables.';\n",
              "        element.innerHTML = '';\n",
              "        dataTable['output_type'] = 'display_data';\n",
              "        await google.colab.output.renderOutput(dataTable, element);\n",
              "        const docLink = document.createElement('div');\n",
              "        docLink.innerHTML = docLinkHtml;\n",
              "        element.appendChild(docLink);\n",
              "      }\n",
              "    </script>\n",
              "  </div>\n",
              "\n",
              "\n",
              "    </div>\n",
              "  </div>\n"
            ],
            "application/vnd.google.colaboratory.intrinsic+json": {
              "type": "dataframe",
              "summary": "{\n  \"name\": \"pd\",\n  \"rows\": 1,\n  \"fields\": [\n    {\n      \"column\": \"age_bracket\",\n      \"properties\": {\n        \"dtype\": \"number\",\n        \"std\": null,\n        \"min\": 53,\n        \"max\": 53,\n        \"num_unique_values\": 1,\n        \"samples\": [\n          53\n        ],\n        \"semantic_type\": \"\",\n        \"description\": \"\"\n      }\n    },\n    {\n      \"column\": \"tier\",\n      \"properties\": {\n        \"dtype\": \"number\",\n        \"std\": null,\n        \"min\": 28,\n        \"max\": 28,\n        \"num_unique_values\": 1,\n        \"samples\": [\n          28\n        ],\n        \"semantic_type\": \"\",\n        \"description\": \"\"\n      }\n    },\n    {\n      \"column\": \"gender\",\n      \"properties\": {\n        \"dtype\": \"number\",\n        \"std\": null,\n        \"min\": 152,\n        \"max\": 152,\n        \"num_unique_values\": 1,\n        \"samples\": [\n          152\n        ],\n        \"semantic_type\": \"\",\n        \"description\": \"\"\n      }\n    },\n    {\n      \"column\": \"oPhone\",\n      \"properties\": {\n        \"dtype\": \"number\",\n        \"std\": null,\n        \"min\": 50,\n        \"max\": 50,\n        \"num_unique_values\": 1,\n        \"samples\": [\n          50\n        ],\n        \"semantic_type\": \"\",\n        \"description\": \"\"\n      }\n    },\n    {\n      \"column\": \"oWatch\",\n      \"properties\": {\n        \"dtype\": \"number\",\n        \"std\": null,\n        \"min\": 40,\n        \"max\": 40,\n        \"num_unique_values\": 1,\n        \"samples\": [\n          40\n        ],\n        \"semantic_type\": \"\",\n        \"description\": \"\"\n      }\n    },\n    {\n      \"column\": \"oPods\",\n      \"properties\": {\n        \"dtype\": \"number\",\n        \"std\": null,\n        \"min\": 45,\n        \"max\": 45,\n        \"num_unique_values\": 1,\n        \"samples\": [\n          45\n        ],\n        \"semantic_type\": \"\",\n        \"description\": \"\"\n      }\n    },\n    {\n      \"column\": \"oTV\",\n      \"properties\": {\n        \"dtype\": \"number\",\n        \"std\": null,\n        \"min\": 30,\n        \"max\": 30,\n        \"num_unique_values\": 1,\n        \"samples\": [\n          30\n        ],\n        \"semantic_type\": \"\",\n        \"description\": \"\"\n      }\n    },\n    {\n      \"column\": \"date\",\n      \"properties\": {\n        \"dtype\": \"number\",\n        \"std\": null,\n        \"min\": 17,\n        \"max\": 17,\n        \"num_unique_values\": 1,\n        \"samples\": [\n          17\n        ],\n        \"semantic_type\": \"\",\n        \"description\": \"\"\n      }\n    },\n    {\n      \"column\": \"card\",\n      \"properties\": {\n        \"dtype\": \"number\",\n        \"std\": null,\n        \"min\": 20,\n        \"max\": 20,\n        \"num_unique_values\": 1,\n        \"samples\": [\n          20\n        ],\n        \"semantic_type\": \"\",\n        \"description\": \"\"\n      }\n    }\n  ]\n}"
            }
          },
          "metadata": {},
          "execution_count": 2
        }
      ]
    },
    {
      "cell_type": "code",
      "source": [
        "#Excercise2 - solution 1\n",
        "\n",
        "#Replace missing value '-' to conventional NaN value\n",
        "orange_data_nan = orange_data.replace('-', np.nan)\n",
        "\n",
        "#Delete the rows contain missing values\n",
        "orange_data_nan = orange_data_nan.dropna()\n",
        "\n",
        "len(orange_data_nan)\n",
        "\n",
        "#Excercise2 - solution 2\n",
        "\n",
        "#Filter for the missing value '-' and then convert using '~' to exclude the rows contain missing values\n",
        "orange_data_clean = orange_data[~(orange_data == '-').any(axis=1)]\n",
        "\n",
        "len(orange_data_clean)"
      ],
      "metadata": {
        "colab": {
          "base_uri": "https://localhost:8080/"
        },
        "id": "6xmUIHxytS6o",
        "outputId": "3f9c2596-1b4d-49aa-a0f3-b6a5bc360b89"
      },
      "execution_count": null,
      "outputs": [
        {
          "output_type": "execute_result",
          "data": {
            "text/plain": [
              "19567"
            ]
          },
          "metadata": {},
          "execution_count": 3
        }
      ]
    },
    {
      "cell_type": "code",
      "source": [
        "#Excercise 3\n",
        "\n",
        "#Create column 'product_count'\n",
        "orange_data_clean['product_count'] = (\n",
        "    (orange_data_clean.oPhone == '1').astype(int) +\n",
        "    (orange_data_clean.oWatch == '1').astype(int) +\n",
        "    (orange_data_clean.oPods == '1').astype(int) +\n",
        "    (orange_data_clean.oTV == '1').astype(int))\n",
        "\n",
        "#Filter for customers who own multiple products\n",
        "orange_data_clean['owns_multiple_products'] = (orange_data_clean['product_count'] >= 2).astype(int)\n",
        "\n",
        "#Count customers who own multiple products\n",
        "print(orange_data_clean['owns_multiple_products'].value_counts()[1])"
      ],
      "metadata": {
        "colab": {
          "base_uri": "https://localhost:8080/"
        },
        "id": "iErETvPur03-",
        "outputId": "61c18600-dfd5-4e82-f552-6d1341978eef"
      },
      "execution_count": null,
      "outputs": [
        {
          "output_type": "stream",
          "name": "stdout",
          "text": [
            "8033\n"
          ]
        }
      ]
    },
    {
      "cell_type": "code",
      "source": [
        "#Excercise 4\n",
        "\n",
        "#Filter for female gender\n",
        "orange_data_group_fe = orange_data_clean[orange_data_clean['gender']=='female']\n",
        "\n",
        "#Filter for female in 'age_bracket' == '18-25'\n",
        "group_fe_young = orange_data_group_fe[orange_data_group_fe['age_bracket']=='18-25']\n",
        "\n",
        "#Filter for Visa_credit card\n",
        "group_fe_young_visa = group_fe_young[group_fe_young['card']=='Visa_credit']\n",
        "\n",
        "#Filter for Master_credit card\n",
        "group_fe_young_master = group_fe_young[group_fe_young['card']=='Mastercard_credit']\n",
        "\n",
        "#Merge the Master and Visa credit cards\n",
        "group_fe_merged = pd.concat([group_fe_young_visa, group_fe_young_master])\n",
        "\n",
        "#Count the number of customers in the group\n",
        "group_fe_merged.value_counts().sum()"
      ],
      "metadata": {
        "colab": {
          "base_uri": "https://localhost:8080/"
        },
        "id": "_9YjNIbAkR4j",
        "outputId": "d8c7eb29-db1f-4769-8618-cf93569967cc"
      },
      "execution_count": null,
      "outputs": [
        {
          "output_type": "execute_result",
          "data": {
            "text/plain": [
              "1825"
            ]
          },
          "metadata": {},
          "execution_count": 5
        }
      ]
    },
    {
      "cell_type": "code",
      "source": [
        "#Excercise 5\n",
        "\n",
        "#Filter for Visa_debit card\n",
        "orange_data_clean['Visa_debit'] = (orange_data_clean['card'] == 'Visa_debit').astype(int).astype(str) # Use .astype(int) and .astype(str) for conversion: True to 1 to '1'\n",
        "\n",
        "#Filter for Master_debit card\n",
        "orange_data_clean['Master_debit'] = (orange_data_clean['card'] == 'Mastercard_debit').astype(int).astype(str) # Use .astype(int) and .astype(str) for conversion: True to 1 to '1'\n",
        "\n",
        "#Filter for other_debit card\n",
        "orange_data_clean['Other_debit'] = (orange_data_clean['card'] == 'Other_debit').astype(int).astype(str) # Use .astype(int) and .astype(str) for conversion: True to 1 to '1'\n",
        "\n",
        "#Create dummy count for Debit cards\n",
        "orange_data_clean['Debit'] = orange_data_clean['Visa_debit'].astype(int) + orange_data_clean['Master_debit'].astype(int) + orange_data_clean['Other_debit'].astype(int)\n",
        "\n",
        "#Filter out customers older than 25 with debit card and own multiple products\n",
        "total = orange_data_clean[(orange_data_clean['age_bracket']!='18-25') & (orange_data_clean['owns_multiple_products']==1)].groupby('age_bracket')['Debit'].sum()\n",
        "\n",
        "#Calculate the pecentage\n",
        "total.sum()/len(orange_data_clean)*100"
      ],
      "metadata": {
        "colab": {
          "base_uri": "https://localhost:8080/"
        },
        "id": "tuxg3CNBvq3B",
        "outputId": "9e5ea244-91eb-49ff-d605-2287baca8c62"
      },
      "execution_count": null,
      "outputs": [
        {
          "output_type": "execute_result",
          "data": {
            "text/plain": [
              "13.609648898655898"
            ]
          },
          "metadata": {},
          "execution_count": 6
        }
      ]
    },
    {
      "cell_type": "code",
      "source": [
        "#Excercise 6\n",
        "\n",
        "#Filter for customers who own multiple products\n",
        "orange_data_6 = orange_data_clean['product_count'] == 4\n",
        "\n",
        "#Count the number of customers who owns all four products\n",
        "orange_data_6_count = orange_data_6.astype(int).sum()\n",
        "orange_data_6_count"
      ],
      "metadata": {
        "colab": {
          "base_uri": "https://localhost:8080/"
        },
        "id": "KXgFHM2nDXwt",
        "outputId": "78984cf2-8c05-4e9c-ef76-b3e587a58dc1"
      },
      "execution_count": null,
      "outputs": [
        {
          "output_type": "execute_result",
          "data": {
            "text/plain": [
              "89"
            ]
          },
          "metadata": {},
          "execution_count": 7
        }
      ]
    },
    {
      "cell_type": "code",
      "source": [
        "#Excercise 7\n",
        "\n",
        "#Calculate the average number of products each customer tier owns\n",
        "answer_to_7 = orange_data_clean.groupby('tier')['product_count'].mean()\n",
        "print(answer_to_7)"
      ],
      "metadata": {
        "colab": {
          "base_uri": "https://localhost:8080/"
        },
        "id": "4JWsO4Rb0cP8",
        "outputId": "631b8325-8582-453f-fb0c-e3151ced0d23"
      },
      "execution_count": null,
      "outputs": [
        {
          "output_type": "stream",
          "name": "stdout",
          "text": [
            "tier\n",
            "gold        1.484461\n",
            "platinum    1.496120\n",
            "silver      1.503344\n",
            "Name: product_count, dtype: float64\n"
          ]
        }
      ]
    },
    {
      "cell_type": "code",
      "source": [
        "#Excercise 8\n",
        "\n",
        "#Create the product_prices vector(array)\n",
        "product_prices = np.array([1200,300,150,2500])\n",
        "\n",
        "#a)\n",
        "\n",
        "#Create the column sales_revenue\n",
        "orange_data_clean['sales_revenue'] = (\n",
        "        (orange_data_clean.oPhone == '1').astype(int) * product_prices[0] +\n",
        "        (orange_data_clean.oWatch == '1').astype(int) * product_prices[1] +\n",
        "        (orange_data_clean.oPods == '1').astype(int) * product_prices[2] +\n",
        "        (orange_data_clean.oTV == '1').astype(int) * product_prices[3]\n",
        ")\n",
        "\n",
        "#Calculate the total revenue\n",
        "print(orange_data_clean['sales_revenue'].sum())\n",
        "\n",
        "#b)\n",
        "\n",
        "#Create the column month_of_purchase\n",
        "orange_data_clean['month_of_purchase'] = pd.to_datetime(orange_data_clean['date']).dt.month\n",
        "\n",
        "#Calculate total revenue of each month\n",
        "best_months = orange_data_clean.groupby('month_of_purchase')['sales_revenue'].sum()\n",
        "\n",
        "#Filter for the month with highest revenue\n",
        "best_month = best_months.idxmax()\n",
        "\n",
        "print(best_month)\n",
        "\n",
        "#c)\n",
        "\n",
        "#Calculate the total revenue for each product\n",
        "phone = orange_data_clean['oPhone'].astype(int).sum() * product_prices[0]\n",
        "watch = orange_data_clean['oWatch'].astype(int).sum() * product_prices[1]\n",
        "pods = orange_data_clean['oPods'].astype(int).sum() * product_prices[2]\n",
        "tv = orange_data_clean['oTV'].astype(int).sum() * product_prices[3]\n",
        "\n",
        "#Create the revenue table\n",
        "total_revenue = pd.DataFrame({\n",
        "    'Product': ['oPhone', 'oWatch', 'oPods', 'oTV'],\n",
        "    'Sales_Revenue': [phone, watch, pods, tv]\n",
        "})\n",
        "\n",
        "#Convert the result to percentage for excercise 9\n",
        "total_revenue['percentage'] = total_revenue['Sales_Revenue'] / total_revenue['Sales_Revenue'].sum() * 100\n",
        "\n",
        "print(total_revenue)"
      ],
      "metadata": {
        "colab": {
          "base_uri": "https://localhost:8080/"
        },
        "id": "fn9ChcHe1V7C",
        "outputId": "dafd5817-abab-45ea-a926-f78517cefe10"
      },
      "execution_count": null,
      "outputs": [
        {
          "output_type": "stream",
          "name": "stdout",
          "text": [
            "24008100\n",
            "5\n",
            "  Product  Sales_Revenue  percentage\n",
            "0  oPhone       14938800   62.223999\n",
            "1  oWatch        1645500    6.853937\n",
            "2   oPods        1341300    5.586864\n",
            "3     oTV        6082500   25.335199\n"
          ]
        }
      ]
    },
    {
      "cell_type": "code",
      "source": [
        "#Excercise 9\n",
        "\n",
        "#a)\n",
        "\n",
        "#Plotting the bar chart\n",
        "best_months.plot(x='Month',y='Total Revenue',kind='bar',color='green')\n",
        "\n",
        "#Show legend\n",
        "plt.legend()\n",
        "\n",
        "#Show additional info\n",
        "plt.xlabel('Month')\n",
        "plt.ylabel('Total Revenue')\n",
        "plt.ticklabel_format(style='plain', axis='y')\n",
        "plt.title('Total Revenue by Month')\n",
        "\n",
        "plt.show()\n",
        "\n",
        "#b)\n",
        "\n",
        "#Plotting the piechart\n",
        "total_revenue.plot(x='Product',y='percentage',kind='pie',labels=total_revenue['Product'],autopct='%1.1f%%')\n",
        "\n",
        "#Show additional info\n",
        "plt.xlabel('Product')\n",
        "plt.ylabel('Sales Revenue')\n",
        "plt.title('Sales Revenue by Product')\n",
        "plt.ticklabel_format(style='plain', axis='y')\n",
        "plt.show()"
      ],
      "metadata": {
        "id": "9MRVtCBSAokB",
        "colab": {
          "base_uri": "https://localhost:8080/",
          "height": 906
        },
        "outputId": "ed4a4275-b609-4f56-9559-35baa8278b20"
      },
      "execution_count": null,
      "outputs": [
        {
          "output_type": "display_data",
          "data": {
            "text/plain": [
              "<Figure size 640x480 with 1 Axes>"
            ],
            "image/png": "[encoded data removed]"
          },
          "metadata": {}
        },
        {
          "output_type": "display_data",
          "data": {
            "text/plain": [
              "<Figure size 640x480 with 1 Axes>"
            ],
            "image/png": "[encoded data removed]"
          },
          "metadata": {}
        }
      ]
    },
    {
      "cell_type": "code",
      "source": [
        "#Filter for customers age 18-25 and own 'oPhone'\n",
        "young_oPhone_owners = orange_data_clean[(orange_data_clean['age_bracket'] == '18-25') & (orange_data_clean['oPhone'] == '1')]\n",
        "\n",
        "#a)\n",
        "\n",
        "#Filter for most owned card type among young_oPhone_owners\n",
        "print(young_oPhone_owners['card'].value_counts().idxmax())\n",
        "\n",
        "#b)\n",
        "\n",
        "#Calculate the average number of products purchased by young_oPhone_owners by using product_count\n",
        "print(young_oPhone_owners.product_count.mean())"
      ],
      "metadata": {
        "colab": {
          "base_uri": "https://localhost:8080/"
        },
        "id": "RRr59OObaxSR",
        "outputId": "2883b50d-f5aa-450d-f322-f457197b02e3"
      },
      "execution_count": null,
      "outputs": [
        {
          "output_type": "stream",
          "name": "stdout",
          "text": [
            "Visa_debit\n",
            "1.692532942898975\n"
          ]
        }
      ]
    }
  ]
}